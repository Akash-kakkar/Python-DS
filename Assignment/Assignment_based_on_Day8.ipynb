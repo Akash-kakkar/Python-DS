{
 "cells": [
  {
   "cell_type": "code",
   "execution_count": 1,
   "metadata": {
    "colab": {},
    "colab_type": "code",
    "id": "ySHTrtylzRHr"
   },
   "outputs": [],
   "source": [
    "import numpy as np"
   ]
  },
  {
   "cell_type": "markdown",
   "metadata": {
    "colab_type": "text",
    "id": "XE1B9bSizRHy"
   },
   "source": [
    "##### Make a ndarray by using np.arange(120), reshape it into shape of (2,3,4,5) and do the following operation on this new ndarray:\n",
    "\n",
    "###### 1. Access the value 91 using indexing.\n",
    "###### 2. obtain a range of value 35-39 from this ndarray.\n",
    "###### 3. Make another 1D array from this having values 0 and all multiples of 5.\n",
    "###### 4. obtain mean values on axis-3 elements."
   ]
  },
  {
   "cell_type": "code",
   "execution_count": 2,
   "metadata": {
    "colab": {
     "base_uri": "https://localhost:8080/",
     "height": 527
    },
    "colab_type": "code",
    "id": "2BtNjSGCzRHz",
    "outputId": "be21e4c4-95d1-4cf9-991c-857e9d282157"
   },
   "outputs": [
    {
     "data": {
      "text/plain": [
       "array([[[[  0,   1,   2,   3,   4],\n",
       "         [  5,   6,   7,   8,   9],\n",
       "         [ 10,  11,  12,  13,  14],\n",
       "         [ 15,  16,  17,  18,  19]],\n",
       "\n",
       "        [[ 20,  21,  22,  23,  24],\n",
       "         [ 25,  26,  27,  28,  29],\n",
       "         [ 30,  31,  32,  33,  34],\n",
       "         [ 35,  36,  37,  38,  39]],\n",
       "\n",
       "        [[ 40,  41,  42,  43,  44],\n",
       "         [ 45,  46,  47,  48,  49],\n",
       "         [ 50,  51,  52,  53,  54],\n",
       "         [ 55,  56,  57,  58,  59]]],\n",
       "\n",
       "\n",
       "       [[[ 60,  61,  62,  63,  64],\n",
       "         [ 65,  66,  67,  68,  69],\n",
       "         [ 70,  71,  72,  73,  74],\n",
       "         [ 75,  76,  77,  78,  79]],\n",
       "\n",
       "        [[ 80,  81,  82,  83,  84],\n",
       "         [ 85,  86,  87,  88,  89],\n",
       "         [ 90,  91,  92,  93,  94],\n",
       "         [ 95,  96,  97,  98,  99]],\n",
       "\n",
       "        [[100, 101, 102, 103, 104],\n",
       "         [105, 106, 107, 108, 109],\n",
       "         [110, 111, 112, 113, 114],\n",
       "         [115, 116, 117, 118, 119]]]])"
      ]
     },
     "execution_count": 2,
     "metadata": {},
     "output_type": "execute_result"
    }
   ],
   "source": [
    "a = np.arange(120).reshape(2, 3, 4, 5)\n",
    "a"
   ]
  },
  {
   "cell_type": "code",
   "execution_count": 3,
   "metadata": {
    "colab": {
     "base_uri": "https://localhost:8080/",
     "height": 34
    },
    "colab_type": "code",
    "id": "EdXWwzlSzRH5",
    "outputId": "89d18381-a198-4dd5-8f5d-1a05d4a74cd7"
   },
   "outputs": [
    {
     "data": {
      "text/plain": [
       "91"
      ]
     },
     "execution_count": 3,
     "metadata": {},
     "output_type": "execute_result"
    }
   ],
   "source": [
    "a[1, 1, 2, 1]"
   ]
  },
  {
   "cell_type": "code",
   "execution_count": 4,
   "metadata": {
    "colab": {
     "base_uri": "https://localhost:8080/",
     "height": 85
    },
    "colab_type": "code",
    "id": "Ce3uEY3wzRH9",
    "outputId": "05311402-c967-4acd-d83a-66c0233a294f"
   },
   "outputs": [
    {
     "data": {
      "text/plain": [
       "(array([0, 0, 0, 0, 0]),\n",
       " array([1, 1, 1, 1, 1]),\n",
       " array([3, 3, 3, 3, 3]),\n",
       " array([0, 1, 2, 3, 4]))"
      ]
     },
     "execution_count": 4,
     "metadata": {},
     "output_type": "execute_result"
    }
   ],
   "source": [
    "np.where(np.logical_and(a>=35, a<=39))"
   ]
  },
  {
   "cell_type": "code",
   "execution_count": 5,
   "metadata": {
    "colab": {
     "base_uri": "https://localhost:8080/",
     "height": 51
    },
    "colab_type": "code",
    "id": "kqOcZTt5zRIE",
    "outputId": "a9642c05-96dc-42b6-be2c-c88399b78688"
   },
   "outputs": [
    {
     "name": "stdout",
     "output_type": "stream",
     "text": [
      "[  0   5  10  15  20  25  30  35  40  45  50  55  60  65  70  75  80  85\n",
      "  90  95 100 105 110 115]\n"
     ]
    }
   ],
   "source": [
    "for i in range(a.shape[-1]):\n",
    "    if i%5 == 0 and i == 0:\n",
    "        print(a[...,i].reshape(24))"
   ]
  },
  {
   "cell_type": "code",
   "execution_count": 6,
   "metadata": {
    "colab": {
     "base_uri": "https://localhost:8080/",
     "height": 136
    },
    "colab_type": "code",
    "id": "UZuPFi8TzRIJ",
    "outputId": "3757ea90-73b8-4a64-9ad2-2822f0b98b09"
   },
   "outputs": [
    {
     "data": {
      "text/plain": [
       "array([[[  2.,   7.,  12.,  17.],\n",
       "        [ 22.,  27.,  32.,  37.],\n",
       "        [ 42.,  47.,  52.,  57.]],\n",
       "\n",
       "       [[ 62.,  67.,  72.,  77.],\n",
       "        [ 82.,  87.,  92.,  97.],\n",
       "        [102., 107., 112., 117.]]])"
      ]
     },
     "execution_count": 6,
     "metadata": {},
     "output_type": "execute_result"
    }
   ],
   "source": [
    "def aim(x):\n",
    "    yield x/2\n",
    "\n",
    "np.apply_along_axis(np.mean, axis=3, arr=a)"
   ]
  },
  {
   "cell_type": "markdown",
   "metadata": {
    "colab_type": "text",
    "id": "3UftCHXrzRIN"
   },
   "source": [
    "##### Make a numpy ndarray np.linspace(5,20,24), and reshape into shape of (4,6).\n",
    "\n",
    "###### 1. Split and stack to make array of shape (4,4) such that it contain elements of first, second ,fourth and sixth column.\n",
    "###### 2. Split and stack to make array of shape (2,2) such that it contain elements of first and fourth row and third and fifth column."
   ]
  },
  {
   "cell_type": "code",
   "execution_count": 7,
   "metadata": {
    "colab": {
     "base_uri": "https://localhost:8080/",
     "height": 153
    },
    "colab_type": "code",
    "id": "0jLpPt8lzRIO",
    "outputId": "bfa0abc3-33a6-4c11-efc7-0a9ee8548ad3"
   },
   "outputs": [
    {
     "data": {
      "text/plain": [
       "array([[ 5.        ,  5.65217391,  6.30434783,  6.95652174,  7.60869565,\n",
       "         8.26086957],\n",
       "       [ 8.91304348,  9.56521739, 10.2173913 , 10.86956522, 11.52173913,\n",
       "        12.17391304],\n",
       "       [12.82608696, 13.47826087, 14.13043478, 14.7826087 , 15.43478261,\n",
       "        16.08695652],\n",
       "       [16.73913043, 17.39130435, 18.04347826, 18.69565217, 19.34782609,\n",
       "        20.        ]])"
      ]
     },
     "execution_count": 7,
     "metadata": {},
     "output_type": "execute_result"
    }
   ],
   "source": [
    "b = np.linspace(5, 20, 24).reshape(4, 6)\n",
    "b"
   ]
  },
  {
   "cell_type": "code",
   "execution_count": 8,
   "metadata": {
    "colab": {
     "base_uri": "https://localhost:8080/",
     "height": 153
    },
    "colab_type": "code",
    "id": "SjCipTvtzRIT",
    "outputId": "c9a1458e-58ec-41a5-e503-b4108b834479"
   },
   "outputs": [
    {
     "data": {
      "text/plain": [
       "[array([[5.        , 5.65217391, 6.30434783, 6.95652174, 7.60869565,\n",
       "         8.26086957]]),\n",
       " array([[ 8.91304348,  9.56521739, 10.2173913 , 10.86956522, 11.52173913,\n",
       "         12.17391304]]),\n",
       " array([[12.82608696, 13.47826087, 14.13043478, 14.7826087 , 15.43478261,\n",
       "         16.08695652]]),\n",
       " array([[16.73913043, 17.39130435, 18.04347826, 18.69565217, 19.34782609,\n",
       "         20.        ]])]"
      ]
     },
     "execution_count": 8,
     "metadata": {},
     "output_type": "execute_result"
    }
   ],
   "source": [
    "np.split(b, 4)\n"
   ]
  },
  {
   "cell_type": "code",
   "execution_count": 9,
   "metadata": {
    "colab": {},
    "colab_type": "code",
    "id": "ZK18LYJkzRIX"
   },
   "outputs": [],
   "source": [
    "[A, B, C, D] = np.split(b, [1, 2, 4], axis=1)"
   ]
  },
  {
   "cell_type": "code",
   "execution_count": 10,
   "metadata": {
    "colab": {
     "base_uri": "https://localhost:8080/",
     "height": 85
    },
    "colab_type": "code",
    "id": "TkslXlkVzRIb",
    "outputId": "87ae1cdf-9530-4eaa-ba6d-2403004ba7a7"
   },
   "outputs": [
    {
     "data": {
      "text/plain": [
       "array([[ 5.        ],\n",
       "       [ 8.91304348],\n",
       "       [12.82608696],\n",
       "       [16.73913043]])"
      ]
     },
     "execution_count": 10,
     "metadata": {},
     "output_type": "execute_result"
    }
   ],
   "source": [
    "A"
   ]
  },
  {
   "cell_type": "code",
   "execution_count": 11,
   "metadata": {
    "colab": {
     "base_uri": "https://localhost:8080/",
     "height": 85
    },
    "colab_type": "code",
    "id": "fzMjBg53zRIf",
    "outputId": "7a690468-86d5-4555-e0b8-a475e95a142d"
   },
   "outputs": [
    {
     "data": {
      "text/plain": [
       "array([[ 5.65217391],\n",
       "       [ 9.56521739],\n",
       "       [13.47826087],\n",
       "       [17.39130435]])"
      ]
     },
     "execution_count": 11,
     "metadata": {},
     "output_type": "execute_result"
    }
   ],
   "source": [
    "B"
   ]
  },
  {
   "cell_type": "code",
   "execution_count": 12,
   "metadata": {
    "colab": {
     "base_uri": "https://localhost:8080/",
     "height": 85
    },
    "colab_type": "code",
    "id": "NyFMLhYhzRIl",
    "outputId": "7805b0ab-0d69-49cc-aef9-15ad68c99622"
   },
   "outputs": [
    {
     "data": {
      "text/plain": [
       "array([[ 6.30434783,  6.95652174],\n",
       "       [10.2173913 , 10.86956522],\n",
       "       [14.13043478, 14.7826087 ],\n",
       "       [18.04347826, 18.69565217]])"
      ]
     },
     "execution_count": 12,
     "metadata": {},
     "output_type": "execute_result"
    }
   ],
   "source": [
    "C"
   ]
  },
  {
   "cell_type": "code",
   "execution_count": 13,
   "metadata": {
    "colab": {
     "base_uri": "https://localhost:8080/",
     "height": 85
    },
    "colab_type": "code",
    "id": "fuXxzU0dzRIp",
    "outputId": "021e27d6-3af9-4b87-daa7-75533a0b8d0c"
   },
   "outputs": [
    {
     "data": {
      "text/plain": [
       "array([[ 7.60869565,  8.26086957],\n",
       "       [11.52173913, 12.17391304],\n",
       "       [15.43478261, 16.08695652],\n",
       "       [19.34782609, 20.        ]])"
      ]
     },
     "execution_count": 13,
     "metadata": {},
     "output_type": "execute_result"
    }
   ],
   "source": [
    "D"
   ]
  },
  {
   "cell_type": "code",
   "execution_count": 14,
   "metadata": {
    "colab": {
     "base_uri": "https://localhost:8080/",
     "height": 153
    },
    "colab_type": "code",
    "id": "D2O0SZobzRIt",
    "outputId": "92ce7b71-f03a-4cb4-e882-0028b6eea9ce"
   },
   "outputs": [
    {
     "data": {
      "text/plain": [
       "[array([[ 5.        ,  5.65217391,  6.30434783,  6.95652174,  7.60869565,\n",
       "          8.26086957],\n",
       "        [ 8.91304348,  9.56521739, 10.2173913 , 10.86956522, 11.52173913,\n",
       "         12.17391304]]),\n",
       " array([[12.82608696, 13.47826087, 14.13043478, 14.7826087 , 15.43478261,\n",
       "         16.08695652],\n",
       "        [16.73913043, 17.39130435, 18.04347826, 18.69565217, 19.34782609,\n",
       "         20.        ]])]"
      ]
     },
     "execution_count": 14,
     "metadata": {},
     "output_type": "execute_result"
    }
   ],
   "source": [
    "np.split(b, 2)"
   ]
  },
  {
   "cell_type": "code",
   "execution_count": 15,
   "metadata": {
    "colab": {},
    "colab_type": "code",
    "id": "8fyNkJawzRIz"
   },
   "outputs": [],
   "source": [
    "[E, F, G, H] = np.split(b, [1, 3, 4], axis=1)"
   ]
  },
  {
   "cell_type": "code",
   "execution_count": 16,
   "metadata": {
    "colab": {
     "base_uri": "https://localhost:8080/",
     "height": 85
    },
    "colab_type": "code",
    "id": "w-5-UoxbzRI2",
    "outputId": "6cc8e852-e93a-42b9-a6de-afcc31a6177a"
   },
   "outputs": [
    {
     "data": {
      "text/plain": [
       "array([[ 5.        ],\n",
       "       [ 8.91304348],\n",
       "       [12.82608696],\n",
       "       [16.73913043]])"
      ]
     },
     "execution_count": 16,
     "metadata": {},
     "output_type": "execute_result"
    }
   ],
   "source": [
    "E"
   ]
  },
  {
   "cell_type": "code",
   "execution_count": 17,
   "metadata": {
    "colab": {
     "base_uri": "https://localhost:8080/",
     "height": 85
    },
    "colab_type": "code",
    "id": "RljG4Bl1zRI7",
    "outputId": "70dd43cf-f2ea-488d-d130-c53ca0d4097f"
   },
   "outputs": [
    {
     "data": {
      "text/plain": [
       "array([[ 5.65217391,  6.30434783],\n",
       "       [ 9.56521739, 10.2173913 ],\n",
       "       [13.47826087, 14.13043478],\n",
       "       [17.39130435, 18.04347826]])"
      ]
     },
     "execution_count": 17,
     "metadata": {},
     "output_type": "execute_result"
    }
   ],
   "source": [
    "F"
   ]
  },
  {
   "cell_type": "code",
   "execution_count": 18,
   "metadata": {
    "colab": {
     "base_uri": "https://localhost:8080/",
     "height": 85
    },
    "colab_type": "code",
    "id": "ksARKdfBzRI_",
    "outputId": "083b9e9d-2d91-4d70-bf88-94c6f6131725"
   },
   "outputs": [
    {
     "data": {
      "text/plain": [
       "array([[ 6.95652174],\n",
       "       [10.86956522],\n",
       "       [14.7826087 ],\n",
       "       [18.69565217]])"
      ]
     },
     "execution_count": 18,
     "metadata": {},
     "output_type": "execute_result"
    }
   ],
   "source": [
    "G"
   ]
  },
  {
   "cell_type": "code",
   "execution_count": 19,
   "metadata": {
    "colab": {
     "base_uri": "https://localhost:8080/",
     "height": 85
    },
    "colab_type": "code",
    "id": "3kjv_ZjhzRJD",
    "outputId": "83127a88-d67f-4937-bcae-ca26c1068962"
   },
   "outputs": [
    {
     "data": {
      "text/plain": [
       "array([[ 7.60869565,  8.26086957],\n",
       "       [11.52173913, 12.17391304],\n",
       "       [15.43478261, 16.08695652],\n",
       "       [19.34782609, 20.        ]])"
      ]
     },
     "execution_count": 19,
     "metadata": {},
     "output_type": "execute_result"
    }
   ],
   "source": [
    "H"
   ]
  },
  {
   "cell_type": "markdown",
   "metadata": {
    "colab_type": "text",
    "id": "G8x5oqwlzRJG"
   },
   "source": [
    "#### Plot a function of log2 and straight line $y = 0.5x - 1$ using matplotlib and find out approximate value at which they intersect. Make sure you have legend in the figure naming the curve."
   ]
  },
  {
   "cell_type": "code",
   "execution_count": 20,
   "metadata": {
    "colab": {},
    "colab_type": "code",
    "id": "BNNLEwqkzRJH"
   },
   "outputs": [],
   "source": [
    "from matplotlib import pyplot as plt"
   ]
  },
  {
   "cell_type": "code",
   "execution_count": 21,
   "metadata": {
    "colab": {
     "base_uri": "https://localhost:8080/",
     "height": 282
    },
    "colab_type": "code",
    "id": "S7gY5Fc2zRJL",
    "outputId": "282c40b2-a1a2-4a97-b878-851bc8a37a72"
   },
   "outputs": [
    {
     "name": "stdout",
     "output_type": "stream",
     "text": [
      "intersection point = (8, 3) {approx.}\n"
     ]
    },
    {
     "data": {
      "image/png": "[encoded data removed]",
      "text/plain": [
       "<Figure size 432x288 with 1 Axes>"
      ]
     },
     "metadata": {},
     "output_type": "display_data"
    }
   ],
   "source": [
    "plt.style.use(\"ggplot\")\n",
    "x = [1, 2, 3, 4, 5, 6, 7, 8, 9, 10]\n",
    "y = np.log(x)/np.log(2)\n",
    "plt.plot(x, y, linewidth=4, label=\"log2(x)\")\n",
    "\n",
    "\n",
    "p = np.linspace(1, 10, 10, dtype=int)\n",
    "y = 0.5 * p - 1\n",
    "plt.plot(p, y, linewidth=4, linestyle='--', label=\"y = (0.5*p -1)\")\n",
    "\n",
    "\n",
    "plt.legend(fontsize='large')\n",
    "\n",
    "print('intersection point = (8, 3) {approx.}')"
   ]
  },
  {
   "cell_type": "code",
   "execution_count": null,
   "metadata": {},
   "outputs": [],
   "source": []
  }
 ],
 "metadata": {
  "colab": {
   "name": "Abhinav_18EMCCS003_PyDS_Assignment_Day8.ipynb",
   "provenance": []
  },
  "kernelspec": {
   "display_name": "Python 3",
   "language": "python",
   "name": "python3"
  },
  "language_info": {
   "codemirror_mode": {
    "name": "ipython",
    "version": 3
   },
   "file_extension": ".py",
   "mimetype": "text/x-python",
   "name": "python",
   "nbconvert_exporter": "python",
   "pygments_lexer": "ipython3",
   "version": "3.6.9"
  }
 },
 "nbformat": 4,
 "nbformat_minor": 1
}
