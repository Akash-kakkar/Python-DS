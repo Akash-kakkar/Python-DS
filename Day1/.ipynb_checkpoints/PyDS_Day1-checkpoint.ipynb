{
 "cells": [
  {
   "cell_type": "markdown",
   "metadata": {},
   "source": [
    "# Create a list of the first 15 even numbers that are not divisible by 6"
   ]
  },
  {
   "cell_type": "code",
   "execution_count": 1,
   "metadata": {},
   "outputs": [
    {
     "data": {
      "text/plain": [
       "[2, 4, 8, 10, 14, 16, 20, 22, 26, 28, 32, 34, 38, 40, 44]"
      ]
     },
     "execution_count": 1,
     "metadata": {},
     "output_type": "execute_result"
    }
   ],
   "source": [
    "numList, counter, appender = [], 0, lambda num: numList.append(num)\n",
    "while len(numList) < 15: appender(counter) if not counter % 2 and counter % 6 else None; counter += 1\n",
    "numList"
   ]
  },
  {
   "cell_type": "markdown",
   "metadata": {},
   "source": [
    "# Write a function to Check whether given two string is anagram or not"
   ]
  },
  {
   "cell_type": "code",
   "execution_count": 2,
   "metadata": {},
   "outputs": [
    {
     "name": "stdout",
     "output_type": "stream",
     "text": [
      "Anagrams\n",
      "!Anagrams\n"
     ]
    }
   ],
   "source": [
    "def anagram(str1, str2):\n",
    "    if sorted(str1) == sorted(str2):\n",
    "        print(\"Anagrams\")\n",
    "    else:\n",
    "        print(\"!Anagrams\")\n",
    "\n",
    "anagram('okzzz', 'zzzko')\n",
    "anagram('PyDS', 'pyds')"
   ]
  },
  {
   "cell_type": "code",
   "execution_count": null,
   "metadata": {},
   "outputs": [],
   "source": []
  }
 ],
 "metadata": {
  "kernelspec": {
   "display_name": "Python 3",
   "language": "python",
   "name": "python3"
  },
  "language_info": {
   "codemirror_mode": {
    "name": "ipython",
    "version": 3
   },
   "file_extension": ".py",
   "mimetype": "text/x-python",
   "name": "python",
   "nbconvert_exporter": "python",
   "pygments_lexer": "ipython3",
   "version": "3.6.9"
  }
 },
 "nbformat": 4,
 "nbformat_minor": 4
}
