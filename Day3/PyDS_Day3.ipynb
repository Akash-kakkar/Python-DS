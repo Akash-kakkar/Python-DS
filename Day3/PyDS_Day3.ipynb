{
 "cells": [
  {
   "cell_type": "markdown",
   "metadata": {},
   "source": [
    "# What is LEGB scope resolution in python?\n",
    "\n",
    "In Python, the LEGB rule is used to decide the order in which the namespaces are to be searched for scope resolution.\n",
    "The scopes are listed below in terms of hierarchy(highest to lowest/narrowest to broadest):\n",
    "\n",
    "Local(L): Defined inside function/class.\n",
    "\n",
    "Enclosed(E): Defined inside enclosing functions(Nested function concept).\n",
    "\n",
    "Global(G): Defined at the uppermost level.\n",
    "\n",
    "Built-in(B): Reserved names in Python builtin modules."
   ]
  },
  {
   "cell_type": "code",
   "execution_count": 1,
   "metadata": {},
   "outputs": [
    {
     "name": "stdout",
     "output_type": "stream",
     "text": [
      "inner pi variable\n"
     ]
    }
   ],
   "source": [
    "# Local Scope \n",
    "\n",
    "pi = 'global pi variable'\n",
    "def inner(): \n",
    "    pi = 'inner pi variable'\n",
    "    print(pi) \n",
    "\n",
    "inner() \n"
   ]
  },
  {
   "cell_type": "code",
   "execution_count": 2,
   "metadata": {},
   "outputs": [
    {
     "name": "stdout",
     "output_type": "stream",
     "text": [
      "inner pi variable\n",
      "global pi variable\n"
     ]
    }
   ],
   "source": [
    "# Global Scope \n",
    "\n",
    "pi = 'global pi variable'\n",
    "def inner(): \n",
    "    pi = 'inner pi variable'\n",
    "    print(pi) \n",
    "\n",
    "inner() \n",
    "print(pi) \n"
   ]
  },
  {
   "cell_type": "code",
   "execution_count": 3,
   "metadata": {},
   "outputs": [
    {
     "name": "stdout",
     "output_type": "stream",
     "text": [
      "outer pi variable\n",
      "global pi variable\n"
     ]
    }
   ],
   "source": [
    "# Enclosed Scope \n",
    "\n",
    "pi = 'global pi variable'\n",
    "\n",
    "def outer(): \n",
    "    pi = 'outer pi variable'\n",
    "    def inner(): \n",
    "        # pi = 'inner pi variable' \n",
    "        nonlocal pi \n",
    "        print(pi) \n",
    "    inner() \n",
    "\n",
    "outer() \n",
    "print(pi) \n"
   ]
  },
  {
   "cell_type": "code",
   "execution_count": 4,
   "metadata": {},
   "outputs": [
    {
     "name": "stdout",
     "output_type": "stream",
     "text": [
      "3.141592653589793\n"
     ]
    }
   ],
   "source": [
    "# Built-in Scope \n",
    "from math import pi \n",
    "\n",
    "# pi = 'global pi variable' \n",
    "\n",
    "def outer(): \n",
    "    # pi = 'outer pi variable' \n",
    "    def inner(): \n",
    "        # pi = 'inner pi variable' \n",
    "        print(pi) \n",
    "    inner() \n",
    "\n",
    "outer() \n"
   ]
  },
  {
   "cell_type": "code",
   "execution_count": null,
   "metadata": {},
   "outputs": [],
   "source": []
  }
 ],
 "metadata": {
  "kernelspec": {
   "display_name": "Python 3",
   "language": "python",
   "name": "python3"
  },
  "language_info": {
   "codemirror_mode": {
    "name": "ipython",
    "version": 3
   },
   "file_extension": ".py",
   "mimetype": "text/x-python",
   "name": "python",
   "nbconvert_exporter": "python",
   "pygments_lexer": "ipython3",
   "version": "3.6.9"
  }
 },
 "nbformat": 4,
 "nbformat_minor": 4
}
